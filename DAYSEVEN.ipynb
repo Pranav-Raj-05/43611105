{
 "cells": [
  {
   "cell_type": "markdown",
   "id": "14f1ec51",
   "metadata": {},
   "source": [
    "# 📅 Day 7: Convert Boston Housing Dataset to Pandas DataFrame\n",
    "In this step, we load the dataset from both **Scikit-learn** and **Kaggle**, convert them into Pandas DataFrames, and add the target column."
   ]
  },
  {
   "cell_type": "code",
   "execution_count": null,
   "id": "e279936a",
   "metadata": {},
   "outputs": [],
   "source": [
    "import pandas as pd\n",
    "from sklearn.datasets import load_boston\n",
    "import warnings\n",
    "\n",
    "warnings.filterwarnings(\"ignore\", category=FutureWarning)"
   ]
  },
  {
   "cell_type": "code",
   "execution_count": null,
   "id": "7ccdaeb2",
   "metadata": {},
   "outputs": [],
   "source": [
    "# === Load from Scikit-learn ===\n",
    "boston = load_boston()\n",
    "\n",
    "# Convert to DataFrame and add column names\n",
    "df_sklearn = pd.DataFrame(boston.data, columns=boston.feature_names)\n",
    "\n",
    "# Add target column\n",
    "df_sklearn['MEDV'] = boston.target\n",
    "\n",
    "print(\"✅ Sklearn Dataset converted to DataFrame:\")\n",
    "df_sklearn.head()"
   ]
  },
  {
   "cell_type": "code",
   "execution_count": null,
   "id": "208af1a6",
   "metadata": {},
   "outputs": [],
   "source": [
    "# === Load from Kaggle CSV ===\n",
    "# Make sure 'BostonHousing.csv' is in your working directory\n",
    "df_kaggle = pd.read_csv(\"BostonHousing.csv\")\n",
    "\n",
    "print(\"✅ Kaggle Dataset loaded:\")\n",
    "df_kaggle.head()"
   ]
  },
  {
   "cell_type": "markdown",
   "id": "bbdf5ec7",
   "metadata": {},
   "source": [
    "### 📝 Notes:\n",
    "- **Scikit-learn** dataset comes in a dictionary-like `Bunch` object.\n",
    "- Requires manual conversion to DataFrame and addition of target (`MEDV`).\n",
    "- **Kaggle** dataset comes as a CSV, ready for DataFrame use."
   ]
  }
 ],
 "metadata": {
  "language_info": {
   "name": "python"
  }
 },
 "nbformat": 4,
 "nbformat_minor": 5
}
