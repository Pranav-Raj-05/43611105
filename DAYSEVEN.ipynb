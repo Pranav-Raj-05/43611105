{
 "cells": [
  {
   "cell_type": "markdown",
   "id": "14f1ec51",
   "metadata": {},
   "source": [
 
   ]
  },
  {
   "cell_type": "code",
   "execution_count": null,
   "id": "e279936a",
   "metadata": {},
   "outputs": [],
   "source": [
    "import pandas as pd\n",
    "from sklearn.datasets import load_boston\n",
    "import warnings\n",
    "\n",
    "warnings.filterwarnings(\"ignore\", category=FutureWarning)"
   ]
  },
  {
   "cell_type": "code",
   "execution_count": null,
   "id": "7ccdaeb2",
   "metadata": {},
   "outputs": [],
   "source": [
  
    "boston = load_boston()\n",
    "\n",
   
    "df_sklearn = pd.DataFrame(boston.data, columns=boston.feature_names)\n",
    "\n",
   
    "df_sklearn['MEDV'] = boston.target\n",
    "\n",
    "print(\"✅ Sklearn Dataset converted to DataFrame:\")\n",
    "df_sklearn.head()"
   ]
  },
  {
   "cell_type": "code",
   "execution_count": null,
   "id": "208af1a6",
   "metadata": {},
   "outputs": [],
   "source": [
  
    "df_kaggle = pd.read_csv(\"BostonHousing.csv\")\n",
    "\n",
    "print(\"✅ Kaggle Dataset loaded:\")\n",
    "df_kaggle.head()"
   ]
  },
  {
   "cell_type": "markdown",
   "id": "bbdf5ec7",
   "metadata": {},
   "source": [
 
   ]
  }
 ],
 "metadata": {
  "language_info": {
   "name": "python"
  }
 },
 "nbformat": 4,
 "nbformat_minor": 5
}
