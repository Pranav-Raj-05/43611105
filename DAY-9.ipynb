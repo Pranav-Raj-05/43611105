# Day 8 - Boston Housing Dataset: Summary Statistics, Outlier Detection, and Feature Scaling

import pandas as pd
import numpy as np
import matplotlib.pyplot as plt
import seaborn as sns
from sklearn.datasets import fetch_openml
from sklearn.preprocessing import StandardScaler, MinMaxScaler

# -------------------------------
# Step 1: Load Boston Housing Dataset
# -------------------------------
# This replaces the deprecated load_boston
boston = fetch_openml(name='boston', version=1, as_frame=True)
df = boston.frame  # Full DataFrame with features + target

# -------------------------------
# Step 2: Summary Statistics
# -------------------------------
print("=== Describe ===")
print(df.describe())

print("\n=== Info ===")
print(df.info())

print("\n=== Missing Values ===")
print(df.isnull().sum())

# -------------------------------
# Step 3: Visualize Outliers
# -------------------------------
plt.figure(figsize=(10, 4))
sns.boxplot(x=df['MEDV'])
plt.title("Boxplot of MEDV (Target)")
plt.show()

plt.figure(figsize=(10, 4))
sns.boxplot(x=df['CRIM'])
plt.title("Boxplot of CRIM (Crime Rate)")
plt.show()

# -------------------------------
# Step 4: Apply Scaling
# -------------------------------
features = df.drop(columns=['MEDV'])  # all features except target
target = df['MEDV']

# App
